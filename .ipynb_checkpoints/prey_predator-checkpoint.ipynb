{
 "cells": [
  {
   "cell_type": "code",
   "execution_count": 1,
   "id": "9f181051-431b-4411-95e7-69d64103fbe0",
   "metadata": {},
   "outputs": [],
   "source": [
    "import numpy as np\n",
    "import matplotlib.pyplot as plt\n",
    "\n",
    "def simulate_chase(R=100, u=1, V=1, dt=0.01):\n",
    "    \"\"\"\n",
    "    Simulate predator-prey chase where prey moves in a circle and predator chases directly.\n",
    "    \n",
    "    Parameters:\n",
    "        R (float): Radius of prey's circular path (meters)\n",
    "        u (float): Speed of prey (m/s)\n",
    "        V (float): Speed of predator (m/s)\n",
    "        dt (float): Time step for simulation (seconds)\n",
    "        \n",
    "    Returns:\n",
    "        Tc (float): Time until capture (seconds)\n",
    "        positions (list): List of (prey_pos, predator_pos) tuples over time\n",
    "    \"\"\"\n",
    "    # Initial positions (explicitly as float arrays)\n",
    "    prey_pos = np.array([R, 0], dtype=np.float64)  # Start prey at (R, 0)\n",
    "    predator_pos = np.array([0, 0], dtype=np.float64)  # Start predator at origin\n",
    "    \n",
    "    positions = [(prey_pos.copy(), predator_pos.copy())]\n",
    "    t = 0\n",
    "    \n",
    "    while True:\n",
    "        # Calculate prey's new position (circular motion)\n",
    "        theta = u * t / R  # Angle based on time\n",
    "        prey_pos = np.array([R * np.cos(theta), R * np.sin(theta)])\n",
    "        \n",
    "        # Calculate predator's direction vector\n",
    "        direction = prey_pos - predator_pos\n",
    "        distance = np.linalg.norm(direction)\n",
    "        \n",
    "        # Check for capture with more robust condition\n",
    "        if distance < V * dt:  # Capture when predator can reach prey in one step\n",
    "            return t, positions\n",
    "        \n",
    "        # Safety check to prevent infinite loops\n",
    "        if t > 1000:  # Max simulation time (adjust as needed)\n",
    "            raise RuntimeError(\"Simulation did not converge - predator may never catch prey\")\n",
    "        \n",
    "        # Normalize direction and move predator\n",
    "        predator_pos += (direction / distance) * V * dt\n",
    "        \n",
    "        # Store positions\n",
    "        positions.append((prey_pos.copy(), predator_pos.copy()))\n",
    "        t += dt\n"
   ]
  },
  {
   "cell_type": "code",
   "execution_count": 2,
   "id": "fca94a73-7937-4658-aed8-80ab2a040131",
   "metadata": {},
   "outputs": [],
   "source": [
    "def plot_trajectory(positions):\n",
    "    \"\"\"Plot the trajectories of prey and predator\"\"\"\n",
    "    prey_x, prey_y = zip(*[p[0] for p in positions])\n",
    "    pred_x, pred_y = zip(*[p[1] for p in positions])\n",
    "    \n",
    "    plt.figure(figsize=(8, 8))\n",
    "    plt.plot(prey_x, prey_y, label='Prey Path')\n",
    "    plt.plot(pred_x, pred_y, label='Predator Path')\n",
    "    plt.scatter([0], [0], c='red', label='Start')\n",
    "    plt.gca().set_aspect('equal')\n",
    "    plt.xlabel('X Position (m)')\n",
    "    plt.ylabel('Y Position (m)')\n",
    "    plt.legend()\n",
    "    plt.title('Predator-Prey Chase Trajectories')\n",
    "    plt.show()\n",
    "\n",
    "def analyze_capture_time(u_range=(0.1, 2.0), num_points=20):\n",
    "    \"\"\"Analyze how capture time varies with prey speed\"\"\"\n",
    "    u_values = np.linspace(u_range[0], u_range[1], num_points)\n",
    "    Tc_values = []\n",
    "    \n",
    "    for u in u_values:\n",
    "        Tc, _ = simulate_chase(u=u)\n",
    "        Tc_values.append(Tc)\n",
    "    \n",
    "    plt.figure()\n",
    "    plt.plot(u_values, Tc_values, 'o-')\n",
    "    plt.xlabel('Prey Speed u (m/s)')\n",
    "    plt.ylabel('Capture Time Tc (s)')\n",
    "    plt.title('Capture Time vs Prey Speed')\n",
    "    plt.grid(True)\n",
    "    plt.show()"
   ]
  },
  {
   "cell_type": "code",
   "execution_count": 3,
   "id": "296bb65e-77c8-401d-ba6b-98336e095469",
   "metadata": {},
   "outputs": [
    {
     "ename": "RuntimeError",
     "evalue": "Simulation did not converge - predator may never catch prey",
     "output_type": "error",
     "traceback": [
      "\u001b[0;31m---------------------------------------------------------------------------\u001b[0m",
      "\u001b[0;31mRuntimeError\u001b[0m                              Traceback (most recent call last)",
      "Cell \u001b[0;32mIn[3], line 1\u001b[0m\n\u001b[0;32m----> 1\u001b[0m Tc, positions \u001b[38;5;241m=\u001b[39m \u001b[43msimulate_chase\u001b[49m\u001b[43m(\u001b[49m\u001b[43m)\u001b[49m\n\u001b[1;32m      2\u001b[0m \u001b[38;5;28mprint\u001b[39m(\u001b[38;5;124mf\u001b[39m\u001b[38;5;124m\"\u001b[39m\u001b[38;5;124mCapture time: \u001b[39m\u001b[38;5;132;01m{\u001b[39;00mTc\u001b[38;5;132;01m:\u001b[39;00m\u001b[38;5;124m.2f\u001b[39m\u001b[38;5;132;01m}\u001b[39;00m\u001b[38;5;124m seconds\u001b[39m\u001b[38;5;124m\"\u001b[39m)\n",
      "Cell \u001b[0;32mIn[1], line 40\u001b[0m, in \u001b[0;36msimulate_chase\u001b[0;34m(R, u, V, dt)\u001b[0m\n\u001b[1;32m     38\u001b[0m \u001b[38;5;66;03m# Safety check to prevent infinite loops\u001b[39;00m\n\u001b[1;32m     39\u001b[0m \u001b[38;5;28;01mif\u001b[39;00m t \u001b[38;5;241m>\u001b[39m \u001b[38;5;241m1000\u001b[39m:  \u001b[38;5;66;03m# Max simulation time (adjust as needed)\u001b[39;00m\n\u001b[0;32m---> 40\u001b[0m     \u001b[38;5;28;01mraise\u001b[39;00m \u001b[38;5;167;01mRuntimeError\u001b[39;00m(\u001b[38;5;124m\"\u001b[39m\u001b[38;5;124mSimulation did not converge - predator may never catch prey\u001b[39m\u001b[38;5;124m\"\u001b[39m)\n\u001b[1;32m     42\u001b[0m \u001b[38;5;66;03m# Normalize direction and move predator\u001b[39;00m\n\u001b[1;32m     43\u001b[0m predator_pos \u001b[38;5;241m+\u001b[39m\u001b[38;5;241m=\u001b[39m (direction \u001b[38;5;241m/\u001b[39m distance) \u001b[38;5;241m*\u001b[39m V \u001b[38;5;241m*\u001b[39m dt\n",
      "\u001b[0;31mRuntimeError\u001b[0m: Simulation did not converge - predator may never catch prey"
     ]
    }
   ],
   "source": [
    "Tc, positions = simulate_chase()\n",
    "print(f\"Capture time: {Tc:.2f} seconds\")"
   ]
  },
  {
   "cell_type": "code",
   "execution_count": 5,
   "id": "b598fdf4-2f6f-4552-b9cd-a4440bbe6d8c",
   "metadata": {},
   "outputs": [
    {
     "ename": "NameError",
     "evalue": "name 'positions' is not defined",
     "output_type": "error",
     "traceback": [
      "\u001b[0;31m---------------------------------------------------------------------------\u001b[0m",
      "\u001b[0;31mNameError\u001b[0m                                 Traceback (most recent call last)",
      "Cell \u001b[0;32mIn[5], line 2\u001b[0m\n\u001b[1;32m      1\u001b[0m \u001b[38;5;66;03m# Plot the trajectories\u001b[39;00m\n\u001b[0;32m----> 2\u001b[0m plot_trajectory(\u001b[43mpositions\u001b[49m)\n",
      "\u001b[0;31mNameError\u001b[0m: name 'positions' is not defined"
     ]
    }
   ],
   "source": [
    "# Plot the trajectories\n",
    "plot_trajectory(positions)\n",
    "    \n",
    "\n"
   ]
  },
  {
   "cell_type": "code",
   "execution_count": 4,
   "id": "03980a67-e967-4b55-abce-6e9154b98dd2",
   "metadata": {},
   "outputs": [
    {
     "ename": "RuntimeError",
     "evalue": "Simulation did not converge - predator may never catch prey",
     "output_type": "error",
     "traceback": [
      "\u001b[0;31m---------------------------------------------------------------------------\u001b[0m",
      "\u001b[0;31mRuntimeError\u001b[0m                              Traceback (most recent call last)",
      "Cell \u001b[0;32mIn[4], line 2\u001b[0m\n\u001b[1;32m      1\u001b[0m \u001b[38;5;66;03m# Analyze how capture time varies with prey speed\u001b[39;00m\n\u001b[0;32m----> 2\u001b[0m \u001b[43manalyze_capture_time\u001b[49m\u001b[43m(\u001b[49m\u001b[43m)\u001b[49m\n",
      "Cell \u001b[0;32mIn[2], line 23\u001b[0m, in \u001b[0;36manalyze_capture_time\u001b[0;34m(u_range, num_points)\u001b[0m\n\u001b[1;32m     20\u001b[0m Tc_values \u001b[38;5;241m=\u001b[39m []\n\u001b[1;32m     22\u001b[0m \u001b[38;5;28;01mfor\u001b[39;00m u \u001b[38;5;129;01min\u001b[39;00m u_values:\n\u001b[0;32m---> 23\u001b[0m     Tc, _ \u001b[38;5;241m=\u001b[39m \u001b[43msimulate_chase\u001b[49m\u001b[43m(\u001b[49m\u001b[43mu\u001b[49m\u001b[38;5;241;43m=\u001b[39;49m\u001b[43mu\u001b[49m\u001b[43m)\u001b[49m\n\u001b[1;32m     24\u001b[0m     Tc_values\u001b[38;5;241m.\u001b[39mappend(Tc)\n\u001b[1;32m     26\u001b[0m plt\u001b[38;5;241m.\u001b[39mfigure()\n",
      "Cell \u001b[0;32mIn[1], line 40\u001b[0m, in \u001b[0;36msimulate_chase\u001b[0;34m(R, u, V, dt)\u001b[0m\n\u001b[1;32m     38\u001b[0m \u001b[38;5;66;03m# Safety check to prevent infinite loops\u001b[39;00m\n\u001b[1;32m     39\u001b[0m \u001b[38;5;28;01mif\u001b[39;00m t \u001b[38;5;241m>\u001b[39m \u001b[38;5;241m1000\u001b[39m:  \u001b[38;5;66;03m# Max simulation time (adjust as needed)\u001b[39;00m\n\u001b[0;32m---> 40\u001b[0m     \u001b[38;5;28;01mraise\u001b[39;00m \u001b[38;5;167;01mRuntimeError\u001b[39;00m(\u001b[38;5;124m\"\u001b[39m\u001b[38;5;124mSimulation did not converge - predator may never catch prey\u001b[39m\u001b[38;5;124m\"\u001b[39m)\n\u001b[1;32m     42\u001b[0m \u001b[38;5;66;03m# Normalize direction and move predator\u001b[39;00m\n\u001b[1;32m     43\u001b[0m predator_pos \u001b[38;5;241m+\u001b[39m\u001b[38;5;241m=\u001b[39m (direction \u001b[38;5;241m/\u001b[39m distance) \u001b[38;5;241m*\u001b[39m V \u001b[38;5;241m*\u001b[39m dt\n",
      "\u001b[0;31mRuntimeError\u001b[0m: Simulation did not converge - predator may never catch prey"
     ]
    }
   ],
   "source": [
    "# Analyze how capture time varies with prey speed\n",
    "analyze_capture_time()"
   ]
  },
  {
   "cell_type": "code",
   "execution_count": null,
   "id": "c4b6c2e0-dec1-4b3c-b720-ea32cfce8cea",
   "metadata": {},
   "outputs": [],
   "source": []
  }
 ],
 "metadata": {
  "kernelspec": {
   "display_name": "Python 3 (ipykernel)",
   "language": "python",
   "name": "python3"
  },
  "language_info": {
   "codemirror_mode": {
    "name": "ipython",
    "version": 3
   },
   "file_extension": ".py",
   "mimetype": "text/x-python",
   "name": "python",
   "nbconvert_exporter": "python",
   "pygments_lexer": "ipython3",
   "version": "3.10.10"
  }
 },
 "nbformat": 4,
 "nbformat_minor": 5
}
