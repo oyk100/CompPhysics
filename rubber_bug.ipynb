{
 "cells": [
  {
   "cell_type": "markdown",
   "metadata": {},
   "source": [
    "# Rubber Band Bug Simulation\n",
    "\n",
    "This notebook simulates a bug crawling on a stretching rubber band. The band is being pulled at one end at constant speed while the bug crawls towards the moving end."
   ]
  },
  {
   "cell_type": "markdown",
   "metadata": {},
   "source": [
    "## Import Required Libraries"
   ]
  },
  {
   "cell_type": "code",
   "execution_count": null,
   "metadata": {},
   "outputs": [],
   "source": [
    "import numpy as np\n",
    "import matplotlib.pyplot as plt"
   ]
  },
  {
   "cell_type": "markdown",
   "metadata": {},
   "source": [
    "## Define Simulation Parameters"
   ]
  },
  {
   "cell_type": "code",
   "execution_count": null,
   "metadata": {},
   "outputs": [],
   "source": [
    "# Physical parameters\n",
    "V = 1.0  # Speed of the end of the rubber band (m/s)\n",
    "v = 1.0  # Speed of the bug relative to the rubber band (m/s)\n",
    "L0 = 1.0  # Initial length of the rubber band (m)\n",
    "\n",
    "# Simulation parameters\n",
    "dt = 0.001  # Time step for simulation (s)\n",
    "t_max = 10.0  # Maximum simulation time (s)"
   ]
  },
  {
   "cell_type": "markdown",
   "metadata": {},
   "source": [
    "## Initialize Arrays and Set Initial Conditions"
   ]
  },
  {
   "cell_type": "code",
   "execution_count": null,
   "metadata": {},
   "outputs": [],
   "source": [
    "# Create time array\n",
    "times = np.arange(0, t_max, dt)\n",
    "\n",
    "# Initialize arrays to store results\n",
    "L = np.zeros_like(times)  # Length of rubber band\n",
    "x_bug = np.zeros_like(times)  # Bug's position\n",
    "distance = np.zeros_like(times)  # Distance from bug to end\n",
    "\n",
    "# Set initial conditions\n",
    "L[0] = L0\n",
    "x_bug[0] = 0.0  # Bug starts at wall\n",
    "distance[0] = L0"
   ]
  },
  {
   "cell_type": "markdown",
   "metadata": {},
   "source": [
    "## Run Simulation"
   ]
  },
  {
   "cell_type": "code",
   "execution_count": null,
   "metadata": {},
   "outputs": [],
   "source": [
    "for i in range(1, len(times)):\n",
    "    t = times[i]\n",
    "    \n",
    "    # Update rubber band length\n",
    "    L[i] = L0 + V * t\n",
    "    \n",
    "    # Calculate bug's new position\n",
    "    # The bug moves relative to the stretching rubber band\n",
    "    dx_bug = (v + x_bug[i-1] * V/L[i-1]) * dt\n",
    "    x_bug[i] = x_bug[i-1] + dx_bug\n",
    "    \n",
    "    # Calculate distance to end\n",
    "    distance[i] = L[i] - x_bug[i]\n",
    "    \n",
    "    # Check if bug has reached the end\n",
    "    if distance[i] <= 0:\n",
    "        print(f\"Bug reached the end at t = {t:.2f} seconds\")\n",
    "        break"
   ]
  },
  {
   "cell_type": "markdown",
   "metadata": {},
   "source": [
    "## Plot Results"
   ]
  },
  {
   "cell_type": "code",
   "execution_count": null,
   "metadata": {},
   "outputs": [],
   "source": [
    "plt.figure(figsize=(10, 6))\n",
    "plt.plot(times[:i+1], distance[:i+1])\n",
    "plt.xlabel('Time (s)')\n",
    "plt.ylabel('Distance to end (m)')\n",
    "plt.title('Distance between Bug and End of Rubber Band')\n",
    "plt.grid(True)\n",
    "plt.show()"
   ]
  }
 ],
 "metadata": {
  "kernelspec": {
   "display_name": "Python 3",
   "language": "python",
   "name": "python3"
  },
  "language_info": {
   "codemirror_mode": {
    "name": "ipython",
    "version": 3
   },
   "file_extension": ".py",
   "mimetype": "text/x-python",
   "name": "python",
   "nbconvert_exporter": "python",
   "pygments_lexer": "ipython3",
   "version": "3.9.7"
  }
 },
 "nbformat": 4,
 "nbformat_minor": 4
}
