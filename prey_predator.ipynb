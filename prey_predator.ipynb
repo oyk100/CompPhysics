{
 "cells": [
  {
   "cell_type": "markdown",
   "metadata": {},
   "source": [
    "# Predator-Prey Chase Simulation\n",
    "\n",
    "This notebook simulates a predator chasing prey moving in a circular path. The prey moves around a circle of radius R with constant speed u, while the predator moves directly toward the prey with constant speed V."
   ]
  },
  {
   "cell_type": "code",
   "execution_count": null,
   "metadata": {},
   "outputs": [],
   "source": [
    "# Import required libraries\n",
    "import numpy as np\n",
    "import matplotlib.pyplot as plt\n",
    "%matplotlib inline"
   ]
  },
  {
   "cell_type": "code",
   "execution_count": null,
   "metadata": {},
   "outputs": [],
   "source": [
    "def simulate_chase(R=100, u=1, V=1, dt=0.01):\n",
    "    \"\"\"\n",
    "    Simulate predator-prey chase where prey moves in a circle and predator chases directly.\n",
    "    \n",
    "    Parameters:\n",
    "        R (float): Radius of prey's circular path (meters)\n",
    "        u (float): Speed of prey (m/s)\n",
    "        V (float): Speed of predator (m/s)\n",
    "        dt (float): Time step for simulation (seconds)\n",
    "        \n",
    "    Returns:\n",
    "        Tc (float): Time until capture (seconds)\n",
    "        positions (list): List of (prey_pos, predator_pos) tuples over time\n",
    "    \"\"\"\n",
    "    # Initial positions\n",
    "    prey_pos = np.array([R, 0])  # Start prey at (R, 0)\n",
    "    predator_pos = np.array([0, 0])  # Start predator at origin\n",
    "    \n",
    "    positions = [(prey_pos.copy(), predator_pos.copy())]\n",
    "    t = 0\n",
    "    \n",
    "    while True:\n",
    "        # Calculate prey's new position (circular motion)\n",
    "        theta = u * t / R  # Angle based on time\n",
    "        prey_pos = np.array([R * np.cos(theta), R * np.sin(theta)])\n",
    "        \n",
    "        # Calculate predator's direction vector\n",
    "        direction = prey_pos - predator_pos\n",
    "        distance = np.linalg.norm(direction)\n",
    "        \n",
    "        # Check for capture\n",
    "        if distance < 0.1:  # Capture condition\n",
    "            return t, positions\n",
    "        \n",
    "        # Normalize direction and move predator\n",
    "        predator_pos += (direction / distance) * V * dt\n",
    "        \n",
    "        # Store positions\n",
    "        positions.append((prey_pos.copy(), predator_pos.copy()))\n",
    "        t += dt"
   ]
  },
  {
   "cell_type": "code",
   "execution_count": null,
   "metadata": {},
   "outputs": [],
   "source": [
    "# Run simulation with default parameters\n",
    "Tc, positions = simulate_chase()\n",
    "print(f\"Capture time: {Tc:.2f} seconds\")"
   ]
  },
  {
   "cell_type": "code",
   "execution_count": null,
   "metadata": {},
   "outputs": [],
   "source": [
    "def plot_trajectory(positions):\n",
    "    \"\"\"Plot the trajectories of prey and predator\"\"\"\n",
    "    prey_x, prey_y = zip(*[p[0] for p in positions])\n",
    "    pred_x, pred_y = zip(*[p[1] for p in positions])\n",
    "    \n",
    "    plt.figure(figsize=(8, 8))\n",
    "    plt.plot(prey_x, prey_y, label='Prey Path')\n",
    "    plt.plot(pred_x, pred_y, label='Predator Path')\n",
    "    plt.scatter([0], [0], c='red', label='Start')\n",
    "    plt.gca().set_aspect('equal')\n",
    "    plt.xlabel('X Position (m)')\n",
    "    plt.ylabel('Y Position (m)')\n",
    "    plt.legend()\n",
    "    plt.title('Predator-Prey Chase Trajectories')\n",
    "    plt.show()"
   ]
  },
  {
   "cell_type": "code",
   "execution_count": null,
   "metadata": {},
   "outputs": [],
   "source": [
    "# Plot the trajectories\n",
    "plot_trajectory(positions)"
   ]
  },
  {
   "cell_type": "code",
   "execution_count": null,
   "metadata": {},
   "outputs": [],
   "source": [
    "def analyze_capture_time(u_range=(0.1, 2.0), num_points=20):\n",
    "    \"\"\"Analyze how capture time varies with prey speed\"\"\"\n",
    "    u_values = np.linspace(u_range[0], u_range[1], num_points)\n",
    "    Tc_values = []\n",
    "    \n",
    "    for u in u_values:\n",
    "        Tc, _ = simulate_chase(u=u)\n",
    "        Tc_values.append(Tc)\n",
    "    \n",
    "    plt.figure()\n",
    "    plt.plot(u_values, Tc_values, 'o-')\n",
    "    plt.xlabel('Prey Speed u (m/s)')\n",
    "    plt.ylabel('Capture Time Tc (s)')\n",
    "    plt.title('Capture Time vs Prey Speed')\n",
    "    plt.grid(True)\n",
    "    plt.show()"
   ]
  },
  {
   "cell_type": "code",
   "execution_count": null,
   "metadata": {},
   "outputs": [],
   "source": [
    "# Analyze how capture time varies with prey speed\n",
    "analyze_capture_time()"
   ]
  }
 ],
 "metadata": {
  "kernelspec": {
   "display_name": "Python 3",
   "language": "python",
   "name": "python3"
  },
  "language_info": {
   "codemirror_mode": {
    "name": "ipython",
    "version": 3
   },
   "file_extension": ".py",
   "mimetype": "text/x-python",
   "name": "python",
   "nbconvert_exporter": "python",
   "pygments_lexer": "ipython3",
   "version": "3.9.7"
  }
 },
 "nbformat": 4,
 "nbformat_minor": 4
}
