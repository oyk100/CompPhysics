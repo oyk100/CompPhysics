{
 "cells": [
  {
   "cell_type": "code",
   "execution_count": 6,
   "id": "bb2b2121-c1f5-4c51-a7be-f7fbe28ac1d3",
   "metadata": {},
   "outputs": [
    {
     "name": "stdout",
     "output_type": "stream",
     "text": [
      "To three decimal places, the sum of the series\n",
      "1/e + 2/e^2 + 3/e^3 + ...  is  0.920368\n"
     ]
    }
   ],
   "source": [
    "import math\n",
    "\n",
    "sum = 0.0\n",
    "n = 10\n",
    "\n",
    "for i in range(1, n+1):\n",
    "    sum = sum + i/math.exp(i)\n",
    "\n",
    "print(\"To three decimal places, the sum of the series\")\n",
    "print(\"1/e + 2/e^2 + 3/e^3 + ...  is  %lf\" % sum)"
   ]
  },
  {
   "cell_type": "code",
   "execution_count": 7,
   "id": "d51d78e7-0017-4ade-aee4-0685f66c14fb",
   "metadata": {},
   "outputs": [
    {
     "name": "stdin",
     "output_type": "stream",
     "text": [
      "Enter x:  5\n"
     ]
    },
    {
     "name": "stdout",
     "output_type": "stream",
     "text": [
      "1 6.0\n",
      "2 12.25\n",
      "3 18.96296296296297\n",
      "4 25.62890625\n",
      "5 32.0\n",
      "6 37.970700445816206\n",
      "7 43.509334667406584\n",
      "8 48.62133985757828\n",
      "9 53.32977312926783\n",
      "10 57.6650390625\n",
      "11 61.659538871094995\n",
      "12 65.34496113081846\n",
      "13 68.75099475806103\n",
      "14 71.9048051649087\n",
      "15 74.83091388075755\n",
      "16 77.55128409250516\n",
      "17 80.08550353725683\n",
      "18 82.45100553237206\n",
      "19 84.66329650072176\n",
      "20 86.73617379884035\n",
      "21 88.68192628452785\n",
      "22 90.51151482181568\n",
      "23 92.23473248067556\n",
      "24 93.86034549539212\n",
      "25 95.39621664406893\n",
      "26 96.84941291666865\n",
      "27 98.22629933195907\n",
      "28 99.53262064922514\n",
      "29 100.77357255820513\n",
      "30 101.95386375364681\n",
      "31 103.07777012702297\n",
      "32 104.1491821462717\n",
      "33 105.17164634879316\n",
      "34 106.14840174430637\n",
      "35 107.08241181207404\n",
      "36 107.97639268007151\n",
      "37 108.8328379904213\n",
      "38 109.65404088406515\n",
      "39 110.44211347671005\n",
      "40 111.19900414606003\n",
      "41 111.92651290596227\n",
      "42 112.62630510521602\n",
      "43 113.29992365646496\n",
      "44 113.94879997293187\n",
      "45 114.57426376713221\n",
      "46 115.17755184541218\n",
      "47 115.75981601480298\n",
      "48 116.3221302037032\n",
      "49 116.86549688506949\n",
      "50 117.39085287969579\n",
      "51 117.89907460755458\n",
      "52 118.39098284694157\n",
      "53 118.86734705390585\n",
      "54 119.32888928826752\n",
      "55 119.77628778705298\n",
      "56 120.2101802214801\n",
      "57 120.63116666946696\n",
      "58 121.03981233204068\n",
      "59 121.43665001886656\n",
      "60 121.82218242531717\n",
      "61 122.1968842210861\n",
      "62 122.56120396818258\n",
      "63 122.91556588428764\n",
      "64 123.26037146570938\n",
      "65 123.59600098277993\n",
      "66 123.92281485916973\n",
      "67 124.24115494544586\n",
      "68 124.55134569618016\n",
      "69 124.85369525899162\n",
      "70 125.14849648306485\n",
      "71 125.43602785401205\n",
      "72 125.71655436121789\n",
      "73 125.9903283032937\n",
      "74 126.25759003670814\n",
      "75 126.51856867220319\n",
      "76 126.77348272317019\n",
      "77 127.02254070980739\n",
      "78 127.26594172253816\n",
      "79 127.50387594780749\n",
      "80 127.73652515920787\n",
      "81 127.9640631765042\n",
      "82 128.18665629502215\n",
      "83 128.4044636875728\n",
      "84 128.61763778094416\n",
      "85 128.8263246088217\n",
      "86 129.03066414282105\n",
      "87 129.23079060320876\n",
      "88 129.42683275075305\n",
      "89 129.6189141609995\n",
      "90 129.80715348222972\n",
      "91 129.99166467817423\n",
      "92 130.17255725657228\n",
      "93 130.34993648448457\n",
      "94 130.5239035912717\n",
      "95 130.69455596003976\n",
      "96 130.86198730831381\n",
      "97 131.0262878586451\n",
      "98 131.18754449977843\n",
      "99 131.34584093902023\n",
      "100 131.50125784630401\n"
     ]
    }
   ],
   "source": [
    "x = float(input(\"Enter x: \"))\n",
    "with open(\"HW1_prob2.dat\", \"w\") as fptr:\n",
    "    for i in range(1, 101):\n",
    "        result = pow(1 + x / i, i)\n",
    "        print(i, result)\n",
    "        fptr.write(f\"{i} {result}\\n\")"
   ]
  },
  {
   "cell_type": "code",
   "execution_count": 23,
   "id": "cb7407ff-f074-4dde-bf1a-d23c36e7e15a",
   "metadata": {},
   "outputs": [
    {
     "name": "stdout",
     "output_type": "stream",
     "text": [
      "The total time is 5.799999999999921\n"
     ]
    },
    {
     "data": {
      "text/plain": [
       "Text(0, 0.5, 'Y')"
      ]
     },
     "execution_count": 23,
     "metadata": {},
     "output_type": "execute_result"
    },
    {
     "data": {
      "image/png": "[encoded data removed]",
      "text/plain": [
       "<Figure size 432x288 with 1 Axes>"
      ]
     },
     "metadata": {
      "needs_background": "light"
     },
     "output_type": "display_data"
    }
   ],
   "source": [
    "#This program simulates the movement of a predator and its prey in a two-dimensional plane. \n",
    "#The prey is moving in a circle with a fixed radius and velocity, while the predator is moving towards the prey with a fixed velocity. \n",
    "#The program calculates the predator's position as a function of time, until the predator catches the prey (the distance between them\n",
    "#is less than the predator's velocity multiplied by the time step). At each time step, the predator's velocity is updated so that it always points towards the prey.\n",
    "#The final output is the total time it takes for the predator to catch the prey.\n",
    "\n",
    "# Or as a haiku\n",
    "\n",
    "#A predator chases,\n",
    "#Prey in a circle moves fast,\n",
    "#Until caught, they race.\n",
    "\n",
    "import matplotlib\n",
    "import numpy as np\n",
    "from matplotlib import cm\n",
    "from matplotlib import pyplot as plt\n",
    "\n",
    "\n",
    "\n",
    "radius = 10.0\n",
    "v_prey = 1.0\n",
    "v_predator = 2.0\n",
    "time = 0.0\n",
    "\n",
    "dt = 0.001 * radius / v_prey\n",
    "dist = 0.0\n",
    "i = 0\n",
    "\n",
    "x_prey = radius\n",
    "y_prey = 0.0\n",
    "phi = 0.0\n",
    "\n",
    "x_predator = 0.0\n",
    "y_predator = 0.0\n",
    "vx_predator = v_predator\n",
    "vy_predator = 0.0\n",
    "\n",
    "cmap = cm.coolwarm\n",
    "normalize = matplotlib.colors.Normalize(vmin=0.1, \n",
    "                                        vmax=radius)\n",
    "\n",
    "while i == 0:\n",
    "    phi += v_prey * dt / radius\n",
    "    x_prey = radius * math.cos(phi)\n",
    "    y_prey = radius * math.sin(phi)\n",
    "\n",
    "    x_predator += vx_predator * dt\n",
    "    y_predator += vy_predator * dt\n",
    "\n",
    "    dist = math.sqrt((x_prey - x_predator) ** 2 + (y_prey - y_predator) ** 2)\n",
    "\n",
    "    vx_predator = v_predator * (x_prey - x_predator) / dist\n",
    "    vy_predator = v_predator * (y_prey - y_predator) / dist\n",
    "\n",
    "    plt.scatter(x_predator,y_predator,cmap=cmap,norm=normalize,c=dist,s=15)\n",
    "    plt.scatter(x_prey,y_prey,cmap=cmap,norm=normalize,c=dist,s=15)\n",
    "\n",
    "    if dist < v_predator * dt:\n",
    "        i = 1\n",
    "\n",
    "    time += dt\n",
    "#    print(time, x_predator, y_predator)\n",
    "\n",
    "print(\"The total time is {}\".format(time))\n",
    "plt.xlabel('X')\n",
    "plt.ylabel('Y')\n"
   ]
  },
  {
   "cell_type": "code",
   "execution_count": null,
   "id": "467748e1-2159-47ab-9cb3-808b2f413443",
   "metadata": {},
   "outputs": [],
   "source": []
  }
 ],
 "metadata": {
  "kernelspec": {
   "display_name": "Python 3 (ipykernel)",
   "language": "python",
   "name": "python3"
  },
  "language_info": {
   "codemirror_mode": {
    "name": "ipython",
    "version": 3
   },
   "file_extension": ".py",
   "mimetype": "text/x-python",
   "name": "python",
   "nbconvert_exporter": "python",
   "pygments_lexer": "ipython3",
   "version": "3.9.13"
  }
 },
 "nbformat": 4,
 "nbformat_minor": 5
}
